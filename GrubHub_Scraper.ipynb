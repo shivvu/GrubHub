{
 "cells": [
  {
   "cell_type": "code",
   "execution_count": 1,
   "metadata": {},
   "outputs": [],
   "source": [
    "import requests\n",
    "import pandas as pd\n",
    "import json \n",
    "payload = {\"brand\":\"GRUBHUB\",\"client_id\":\"beta_UmWlpstzQSFmocLy3h1UieYcVST\",\"device_id\":637099320,\"refresh_token\":\"20be56ef-022d-4086-a791-4367c931f84b\"}\n",
    "s = requests.Session()\n",
    "str_resp = s.post('https://api-gtm.grubhub.com/auth',json=payload)\n",
    "json_res = json.loads(str_resp.text)\n",
    "auth = json_res.get('session_handle').get('access_token')\n",
    "auth_token = {'authorization': 'Bearer '+ auth}"
   ]
  },
  {
   "cell_type": "code",
   "execution_count": 8,
   "metadata": {},
   "outputs": [],
   "source": [
    "Category, ItemName, Description,ItemPrice = ([] for i in range(4))\n",
    "str_resp = requests.get('https://api-gtm.grubhub.com/restaurants/2159864?hideChoiceCategories=true&version=4&variationId=rtpFreeItems&orderType=standard&hideUnavailableMenuItems=true&hideMenuItems=false',headers=auth_token)\n",
    "json_res = json.loads(str_resp.text)\n",
    "data= json_res[\"restaurant\"][\"menu_category_list\"][1][\"menu_item_list\"]\n",
    "\n",
    "def remov_curr(rate):\n",
    "    rate.pop(\"currency\",None)\n",
    "    return rate['amount']/100.0\n",
    "\n",
    "   \n",
    "for each_item in data:\n",
    "    for i in range(0,7):\n",
    "        Category.append(each_item[\"menu_category_name\"])\n",
    "        ItemName.append(each_item[\"name\"])\n",
    "        Description.append(each_item[\"description\"])\n",
    "        ItemPrice.append(remov_curr(each_item[\"price\"]))\n",
    "        \n",
    "df1 = pd.DataFrame()   \n",
    "df1 = pd.DataFrame({'Category':Category,'ItemName':ItemName,'Description':Description,'ItemPrice':ItemPrice})"
   ]
  },
  {
   "cell_type": "code",
   "execution_count": 7,
   "metadata": {},
   "outputs": [],
   "source": [
    "str_resp = requests.get('https://api-gtm.grubhub.com/restaurants/2159864/menu_items/?menuItemIds=1772682880&menuItemIds=1771765220&menuItemIds=1773302171&menuItemIds=1778765332&menuItemIds=1772682372&menuItemIds=1833943302&menuItemIds=1776120866&menuItemIds=1776124734&menuItemIds=1771944571&menuItemIds=1771765739&menuItemIds=1773301444&menuItemIds=1771466470&menuItemIds=1776116192&menuItemIds=1835179712&menuItemIds=1776116193&menuItemIds=1771454024&menuItemIds=1771941372&menuItemIds=1772686226&menuItemIds=1773472174&menuItemIds=1771940438&menuItemIds=1771461879&menuItemIds=1772686476&menuItemIds=1773301432&menuItemIds=1771941358&menuItemIds=1771453490&menuItemIds=1771748524&orderType=standard&version=4',headers=auth_token)\n",
    "json_res = json.loads(str_resp.text)\n",
    "Options,OptionPrice = [],[]\n",
    "data = json_res[\"menu_items\"][2][\"choice_category_list\"][0]['choice_option_list']\n",
    "OptionName = json_res[\"menu_items\"][2][\"choice_category_list\"][0]['name']\n",
    "\n",
    "def func(rate):\n",
    "    rate.pop(\"currency\",None)\n",
    "    return rate['amount']/100.0\n",
    "\n",
    "for each_item in data:\n",
    "    Options.append(each_item['description'])\n",
    "    OptionPrice.append(func(each_item['price']))\n",
    "df2 = pd.DataFrame({'OptionName':OptionName,'Options':Options*12,'OptionPrice':OptionPrice*12})\n",
    "df = df1.join(df2)"
   ]
  },
  {
   "cell_type": "code",
   "execution_count": 6,
   "metadata": {},
   "outputs": [],
   "source": [
    "df.to_csv(r'C:\\Users\\91789\\Desktop\\GrubHub_Data.csv',encoding='utf-8',index=False)\n"
   ]
  }
 ],
 "metadata": {
  "kernelspec": {
   "display_name": "Python 3",
   "language": "python",
   "name": "python3"
  },
  "language_info": {
   "codemirror_mode": {
    "name": "ipython",
    "version": 3
   },
   "file_extension": ".py",
   "mimetype": "text/x-python",
   "name": "python",
   "nbconvert_exporter": "python",
   "pygments_lexer": "ipython3",
   "version": "3.7.6"
  }
 },
 "nbformat": 4,
 "nbformat_minor": 4
}
